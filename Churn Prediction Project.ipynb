{
 "cells": [
  {
   "cell_type": "markdown",
   "id": "288147b8-0fe7-4649-bfb5-258ff15661c1",
   "metadata": {},
   "source": [
    "# CHURN PREDICTION PROJECT"
   ]
  },
  {
   "cell_type": "markdown",
   "id": "2278f125-2273-43df-937a-7374eae8e369",
   "metadata": {},
   "source": [
    "### Importing relevant lybraries"
   ]
  },
  {
   "cell_type": "code",
   "execution_count": 1,
   "id": "7e1a05d8-bd88-4c9b-95fa-9f8d9f55d0b2",
   "metadata": {},
   "outputs": [],
   "source": [
    "import pandas as pd\n",
    "from sklearn.model_selection import train_test_split\n",
    "from sklearn.linear_model import LogisticRegression\n",
    "from sklearn.metrics import accuracy_score"
   ]
  },
  {
   "cell_type": "markdown",
   "id": "79655d9b-709b-4184-9b7c-fbe2925ae919",
   "metadata": {},
   "source": [
    "### Reading the csv data "
   ]
  },
  {
   "cell_type": "code",
   "execution_count": 2,
   "id": "a2b3f100-2aec-4039-a931-b01440494d79",
   "metadata": {},
   "outputs": [
    {
     "data": {
      "text/html": [
       "<div>\n",
       "<style scoped>\n",
       "    .dataframe tbody tr th:only-of-type {\n",
       "        vertical-align: middle;\n",
       "    }\n",
       "\n",
       "    .dataframe tbody tr th {\n",
       "        vertical-align: top;\n",
       "    }\n",
       "\n",
       "    .dataframe thead th {\n",
       "        text-align: right;\n",
       "    }\n",
       "</style>\n",
       "<table border=\"1\" class=\"dataframe\">\n",
       "  <thead>\n",
       "    <tr style=\"text-align: right;\">\n",
       "      <th></th>\n",
       "      <th>customer_id</th>\n",
       "      <th>first_name</th>\n",
       "      <th>last_name</th>\n",
       "      <th>age</th>\n",
       "      <th>email</th>\n",
       "      <th>country</th>\n",
       "      <th>postal_code</th>\n",
       "      <th>purchase_date</th>\n",
       "      <th>purchase_amount</th>\n",
       "      <th>churned</th>\n",
       "    </tr>\n",
       "  </thead>\n",
       "  <tbody>\n",
       "    <tr>\n",
       "      <th>0</th>\n",
       "      <td>1</td>\n",
       "      <td>Alvie</td>\n",
       "      <td>Loughrey</td>\n",
       "      <td>76</td>\n",
       "      <td>aloughrey0@google.it</td>\n",
       "      <td>Argentina</td>\n",
       "      <td>4631</td>\n",
       "      <td>11/21/2011</td>\n",
       "      <td>230.77</td>\n",
       "      <td>False</td>\n",
       "    </tr>\n",
       "    <tr>\n",
       "      <th>1</th>\n",
       "      <td>2</td>\n",
       "      <td>Torin</td>\n",
       "      <td>Folca</td>\n",
       "      <td>64</td>\n",
       "      <td>tfolca1@wufoo.com</td>\n",
       "      <td>France</td>\n",
       "      <td>09104 CEDEX</td>\n",
       "      <td>5/3/2015</td>\n",
       "      <td>867.66</td>\n",
       "      <td>False</td>\n",
       "    </tr>\n",
       "    <tr>\n",
       "      <th>2</th>\n",
       "      <td>3</td>\n",
       "      <td>Gav</td>\n",
       "      <td>Branno</td>\n",
       "      <td>31</td>\n",
       "      <td>gbranno2@360.cn</td>\n",
       "      <td>Argentina</td>\n",
       "      <td>9105</td>\n",
       "      <td>1/3/2012</td>\n",
       "      <td>506.61</td>\n",
       "      <td>False</td>\n",
       "    </tr>\n",
       "    <tr>\n",
       "      <th>3</th>\n",
       "      <td>4</td>\n",
       "      <td>Flossy</td>\n",
       "      <td>Briatt</td>\n",
       "      <td>73</td>\n",
       "      <td>fbriatt3@abc.net.au</td>\n",
       "      <td>Canada</td>\n",
       "      <td>K8P</td>\n",
       "      <td>11/15/2014</td>\n",
       "      <td>677.44</td>\n",
       "      <td>True</td>\n",
       "    </tr>\n",
       "    <tr>\n",
       "      <th>4</th>\n",
       "      <td>5</td>\n",
       "      <td>Salomone</td>\n",
       "      <td>Ebrall</td>\n",
       "      <td>54</td>\n",
       "      <td>sebrall4@nymag.com</td>\n",
       "      <td>Poland</td>\n",
       "      <td>77-116</td>\n",
       "      <td>2/12/2019</td>\n",
       "      <td>199.93</td>\n",
       "      <td>True</td>\n",
       "    </tr>\n",
       "  </tbody>\n",
       "</table>\n",
       "</div>"
      ],
      "text/plain": [
       "   customer_id first_name last_name  age                 email    country  \\\n",
       "0            1      Alvie  Loughrey   76  aloughrey0@google.it  Argentina   \n",
       "1            2      Torin     Folca   64     tfolca1@wufoo.com     France   \n",
       "2            3        Gav    Branno   31       gbranno2@360.cn  Argentina   \n",
       "3            4     Flossy    Briatt   73   fbriatt3@abc.net.au     Canada   \n",
       "4            5   Salomone    Ebrall   54    sebrall4@nymag.com     Poland   \n",
       "\n",
       "   postal_code purchase_date  purchase_amount  churned  \n",
       "0         4631    11/21/2011           230.77    False  \n",
       "1  09104 CEDEX      5/3/2015           867.66    False  \n",
       "2         9105      1/3/2012           506.61    False  \n",
       "3          K8P    11/15/2014           677.44     True  \n",
       "4       77-116     2/12/2019           199.93     True  "
      ]
     },
     "execution_count": 2,
     "metadata": {},
     "output_type": "execute_result"
    }
   ],
   "source": [
    "df = pd.read_csv('C:/Users/ADMIN/OneDrive/Desktop/Mike/mydata/MOCK_DATA (3).csv')\n",
    "df.head(5)"
   ]
  },
  {
   "cell_type": "code",
   "execution_count": 3,
   "id": "341915e4-956e-43c2-b68d-ac799f845b76",
   "metadata": {},
   "outputs": [
    {
     "data": {
      "text/plain": [
       "(1000, 10)"
      ]
     },
     "execution_count": 3,
     "metadata": {},
     "output_type": "execute_result"
    }
   ],
   "source": [
    "df.shape"
   ]
  },
  {
   "cell_type": "code",
   "execution_count": 4,
   "id": "bb4e58c8-e33e-483f-97b7-1c6a04ed6541",
   "metadata": {},
   "outputs": [
    {
     "name": "stdout",
     "output_type": "stream",
     "text": [
      "<class 'pandas.core.frame.DataFrame'>\n",
      "RangeIndex: 1000 entries, 0 to 999\n",
      "Data columns (total 10 columns):\n",
      " #   Column           Non-Null Count  Dtype  \n",
      "---  ------           --------------  -----  \n",
      " 0   customer_id      1000 non-null   int64  \n",
      " 1   first_name       1000 non-null   object \n",
      " 2   last_name        1000 non-null   object \n",
      " 3   age              1000 non-null   int64  \n",
      " 4   email            1000 non-null   object \n",
      " 5   country          1000 non-null   object \n",
      " 6   postal_code      479 non-null    object \n",
      " 7   purchase_date    1000 non-null   object \n",
      " 8   purchase_amount  1000 non-null   float64\n",
      " 9   churned          1000 non-null   bool   \n",
      "dtypes: bool(1), float64(1), int64(2), object(6)\n",
      "memory usage: 71.4+ KB\n"
     ]
    }
   ],
   "source": [
    "df.info()"
   ]
  },
  {
   "cell_type": "code",
   "execution_count": 12,
   "id": "a2e13ef5-d6c2-47b4-af56-a5c9a6b53d04",
   "metadata": {},
   "outputs": [],
   "source": [
    "df['purchase_date'] = pd.to_numeric(df['purchase_date'])"
   ]
  },
  {
   "cell_type": "markdown",
   "id": "e8be9ce8-9008-48f8-a5f2-437ed3c91594",
   "metadata": {},
   "source": [
    "### Splitting the data into training and test sets"
   ]
  },
  {
   "cell_type": "code",
   "execution_count": 13,
   "id": "303adfd3-90e1-4da1-8a80-c3043a5296c8",
   "metadata": {},
   "outputs": [],
   "source": [
    "X = df[['customer_id','age','purchase_date','purchase_amount',]]\n",
    "y = df['churned']\n",
    "\n",
    "X_train, X_test,train, y_test = train_test_split(X, y, test_size=0.25)\n"
   ]
  },
  {
   "cell_type": "markdown",
   "id": "109a1108-74de-4a76-a4b1-d0f86b91ce31",
   "metadata": {},
   "source": [
    "### Creating a logistic regression model"
   ]
  },
  {
   "cell_type": "code",
   "execution_count": 14,
   "id": "73beffec-3de8-4d0e-91f3-95cd7e14b631",
   "metadata": {},
   "outputs": [],
   "source": [
    "model = LogisticRegression()"
   ]
  },
  {
   "cell_type": "markdown",
   "id": "7cac5d38-ad92-4f75-b8cd-b2f04d223c32",
   "metadata": {},
   "source": [
    "### Training the model"
   ]
  },
  {
   "cell_type": "code",
   "execution_count": 15,
   "id": "1219c36a-e6cc-47ae-8986-b8e2dac6928d",
   "metadata": {},
   "outputs": [
    {
     "data": {
      "text/html": [
       "<style>#sk-container-id-1 {color: black;}#sk-container-id-1 pre{padding: 0;}#sk-container-id-1 div.sk-toggleable {background-color: white;}#sk-container-id-1 label.sk-toggleable__label {cursor: pointer;display: block;width: 100%;margin-bottom: 0;padding: 0.3em;box-sizing: border-box;text-align: center;}#sk-container-id-1 label.sk-toggleable__label-arrow:before {content: \"▸\";float: left;margin-right: 0.25em;color: #696969;}#sk-container-id-1 label.sk-toggleable__label-arrow:hover:before {color: black;}#sk-container-id-1 div.sk-estimator:hover label.sk-toggleable__label-arrow:before {color: black;}#sk-container-id-1 div.sk-toggleable__content {max-height: 0;max-width: 0;overflow: hidden;text-align: left;background-color: #f0f8ff;}#sk-container-id-1 div.sk-toggleable__content pre {margin: 0.2em;color: black;border-radius: 0.25em;background-color: #f0f8ff;}#sk-container-id-1 input.sk-toggleable__control:checked~div.sk-toggleable__content {max-height: 200px;max-width: 100%;overflow: auto;}#sk-container-id-1 input.sk-toggleable__control:checked~label.sk-toggleable__label-arrow:before {content: \"▾\";}#sk-container-id-1 div.sk-estimator input.sk-toggleable__control:checked~label.sk-toggleable__label {background-color: #d4ebff;}#sk-container-id-1 div.sk-label input.sk-toggleable__control:checked~label.sk-toggleable__label {background-color: #d4ebff;}#sk-container-id-1 input.sk-hidden--visually {border: 0;clip: rect(1px 1px 1px 1px);clip: rect(1px, 1px, 1px, 1px);height: 1px;margin: -1px;overflow: hidden;padding: 0;position: absolute;width: 1px;}#sk-container-id-1 div.sk-estimator {font-family: monospace;background-color: #f0f8ff;border: 1px dotted black;border-radius: 0.25em;box-sizing: border-box;margin-bottom: 0.5em;}#sk-container-id-1 div.sk-estimator:hover {background-color: #d4ebff;}#sk-container-id-1 div.sk-parallel-item::after {content: \"\";width: 100%;border-bottom: 1px solid gray;flex-grow: 1;}#sk-container-id-1 div.sk-label:hover label.sk-toggleable__label {background-color: #d4ebff;}#sk-container-id-1 div.sk-serial::before {content: \"\";position: absolute;border-left: 1px solid gray;box-sizing: border-box;top: 0;bottom: 0;left: 50%;z-index: 0;}#sk-container-id-1 div.sk-serial {display: flex;flex-direction: column;align-items: center;background-color: white;padding-right: 0.2em;padding-left: 0.2em;position: relative;}#sk-container-id-1 div.sk-item {position: relative;z-index: 1;}#sk-container-id-1 div.sk-parallel {display: flex;align-items: stretch;justify-content: center;background-color: white;position: relative;}#sk-container-id-1 div.sk-item::before, #sk-container-id-1 div.sk-parallel-item::before {content: \"\";position: absolute;border-left: 1px solid gray;box-sizing: border-box;top: 0;bottom: 0;left: 50%;z-index: -1;}#sk-container-id-1 div.sk-parallel-item {display: flex;flex-direction: column;z-index: 1;position: relative;background-color: white;}#sk-container-id-1 div.sk-parallel-item:first-child::after {align-self: flex-end;width: 50%;}#sk-container-id-1 div.sk-parallel-item:last-child::after {align-self: flex-start;width: 50%;}#sk-container-id-1 div.sk-parallel-item:only-child::after {width: 0;}#sk-container-id-1 div.sk-dashed-wrapped {border: 1px dashed gray;margin: 0 0.4em 0.5em 0.4em;box-sizing: border-box;padding-bottom: 0.4em;background-color: white;}#sk-container-id-1 div.sk-label label {font-family: monospace;font-weight: bold;display: inline-block;line-height: 1.2em;}#sk-container-id-1 div.sk-label-container {text-align: center;}#sk-container-id-1 div.sk-container {/* jupyter's `normalize.less` sets `[hidden] { display: none; }` but bootstrap.min.css set `[hidden] { display: none !important; }` so we also need the `!important` here to be able to override the default hidden behavior on the sphinx rendered scikit-learn.org. See: https://github.com/scikit-learn/scikit-learn/issues/21755 */display: inline-block !important;position: relative;}#sk-container-id-1 div.sk-text-repr-fallback {display: none;}</style><div id=\"sk-container-id-1\" class=\"sk-top-container\"><div class=\"sk-text-repr-fallback\"><pre>LogisticRegression()</pre><b>In a Jupyter environment, please rerun this cell to show the HTML representation or trust the notebook. <br />On GitHub, the HTML representation is unable to render, please try loading this page with nbviewer.org.</b></div><div class=\"sk-container\" hidden><div class=\"sk-item\"><div class=\"sk-estimator sk-toggleable\"><input class=\"sk-toggleable__control sk-hidden--visually\" id=\"sk-estimator-id-1\" type=\"checkbox\" checked><label for=\"sk-estimator-id-1\" class=\"sk-toggleable__label sk-toggleable__label-arrow\">LogisticRegression</label><div class=\"sk-toggleable__content\"><pre>LogisticRegression()</pre></div></div></div></div></div>"
      ],
      "text/plain": [
       "LogisticRegression()"
      ]
     },
     "execution_count": 15,
     "metadata": {},
     "output_type": "execute_result"
    }
   ],
   "source": [
    "model.fit(X_train, y_train)"
   ]
  },
  {
   "cell_type": "markdown",
   "id": "5fb23098-e285-4dff-a93a-d8510227dd16",
   "metadata": {},
   "source": [
    "### Evaluating the model"
   ]
  },
  {
   "cell_type": "code",
   "execution_count": 16,
   "id": "80729661-4c17-4082-a1f7-d40b6dab2576",
   "metadata": {},
   "outputs": [
    {
     "name": "stdout",
     "output_type": "stream",
     "text": [
      "Accuracy: 0.516\n"
     ]
    }
   ],
   "source": [
    "y_pred = model.predict(X_test)\n",
    "accuracy = accuracy_score(y_test, y_pred)\n",
    "\n",
    "print('Accuracy:', accuracy)"
   ]
  },
  {
   "cell_type": "code",
   "execution_count": null,
   "id": "86c40460-5f9b-4d9f-b37b-f493ec663e52",
   "metadata": {},
   "outputs": [],
   "source": []
  }
 ],
 "metadata": {
  "kernelspec": {
   "display_name": "Python 3 (ipykernel)",
   "language": "python",
   "name": "python3"
  },
  "language_info": {
   "codemirror_mode": {
    "name": "ipython",
    "version": 3
   },
   "file_extension": ".py",
   "mimetype": "text/x-python",
   "name": "python",
   "nbconvert_exporter": "python",
   "pygments_lexer": "ipython3",
   "version": "3.11.4"
  }
 },
 "nbformat": 4,
 "nbformat_minor": 5
}
